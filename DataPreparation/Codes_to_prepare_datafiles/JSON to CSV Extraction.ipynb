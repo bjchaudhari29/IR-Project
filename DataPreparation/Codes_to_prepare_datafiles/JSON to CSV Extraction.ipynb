{
 "cells": [
  {
   "cell_type": "markdown",
   "metadata": {},
   "source": [
    "# Importing Modules"
   ]
  },
  {
   "cell_type": "code",
   "execution_count": 1,
   "metadata": {
    "scrolled": true
   },
   "outputs": [],
   "source": [
    "import re\n",
    "import pandas as pd\n",
    "import numpy as np"
   ]
  },
  {
   "cell_type": "markdown",
   "metadata": {},
   "source": [
    "# Loading the Data"
   ]
  },
  {
   "cell_type": "code",
   "execution_count": 1,
   "metadata": {},
   "outputs": [],
   "source": [
    "#loading the Questions Data\n",
    "data = open(\"Test_Data.txt\",\"rt\") \n",
    "content = data.read()\n",
    "data.close()"
   ]
  },
  {
   "cell_type": "markdown",
   "metadata": {},
   "source": [
    "# Saving Questions, Reviews with respect to Product ID from the QAR File"
   ]
  },
  {
   "cell_type": "code",
   "execution_count": 9,
   "metadata": {},
   "outputs": [],
   "source": [
    "#Initializing DataFrames\n",
    "df1 = pd.DataFrame(columns = ['Question_ID','Product ID','Question Text'])\n",
    "df2 = pd.DataFrame(columns = ['Review_ID','Product ID', 'Review_Text'])"
   ]
  },
  {
   "cell_type": "code",
   "execution_count": 10,
   "metadata": {},
   "outputs": [],
   "source": [
    "start_product = [i.start() for i in re.finditer(\"{'asin': \", content)]\n",
    "end_product = [i.start() for i in re.finditer(\"'category': 'Baby'}\", content)]\n",
    "start_question = [i.start() for i in re.finditer(\"'questionText': \", content)]\n",
    "end_question = [i.start() for i in re.finditer(\", 'answers':\", content)]\n",
    "start_review = [i.start() for i in re.finditer(\"'reviewText': \", content)]\n",
    "end_review = [i.start() for i in re.finditer(\"'}, {'helpful':\", content)]"
   ]
  },
  {
   "cell_type": "code",
   "execution_count": 8,
   "metadata": {},
   "outputs": [
    {
     "data": {
      "text/plain": [
       "(5549, 5497)"
      ]
     },
     "execution_count": 8,
     "metadata": {},
     "output_type": "execute_result"
    }
   ],
   "source": [
    "len(start_review), len(end_review)"
   ]
  },
  {
   "cell_type": "markdown",
   "metadata": {},
   "source": [
    "Getting the endings of each **Product Category** in the **e_review** list, to ensure the endings of the reviews that are ending with the category being ended are recorded"
   ]
  },
  {
   "cell_type": "code",
   "execution_count": 11,
   "metadata": {},
   "outputs": [],
   "source": [
    "e_review = []\n",
    "j = 0\n",
    "for i in range(len(start_review)-1):\n",
    "    if (start_review[i+1]>end_product[j]):\n",
    "        e_review.append(end_product[j])\n",
    "        j = j + 1\n",
    "    else:\n",
    "        e_review.append(end_review[i-j])\n",
    "e_review.append(end_product[j])"
   ]
  },
  {
   "cell_type": "markdown",
   "metadata": {},
   "source": [
    "Now, **e_review** contains the ending indexes of all the reviews"
   ]
  },
  {
   "cell_type": "markdown",
   "metadata": {},
   "source": [
    "Incorporating all the Questions in the DataFrame df1"
   ]
  },
  {
   "cell_type": "code",
   "execution_count": 12,
   "metadata": {},
   "outputs": [],
   "source": [
    "j=0\n",
    "for i in range(len(start_product)-1):\n",
    "    while (end_question[j]<start_product[i+1]):\n",
    "        df1.loc[j] = [j+1, i+1, content[start_question[j]+17:end_question[j]-32]]\n",
    "        j = j + 1"
   ]
  },
  {
   "cell_type": "markdown",
   "metadata": {},
   "source": [
    "Saving the Questions File"
   ]
  },
  {
   "cell_type": "code",
   "execution_count": 13,
   "metadata": {},
   "outputs": [],
   "source": [
    "df1.to_csv(\"Questions.csv\")"
   ]
  },
  {
   "cell_type": "markdown",
   "metadata": {},
   "source": [
    "Incorporating all the Reviews in the DataFrame df2"
   ]
  },
  {
   "cell_type": "code",
   "execution_count": 14,
   "metadata": {},
   "outputs": [
    {
     "name": "stdout",
     "output_type": "stream",
     "text": [
      "j increases by 1 and becomes 16\n",
      "j increases by 1 and becomes 52\n",
      "j increases by 1 and becomes 684\n",
      "j increases by 1 and becomes 869\n",
      "j increases by 1 and becomes 962\n",
      "j increases by 1 and becomes 981\n",
      "j increases by 1 and becomes 1053\n",
      "j increases by 1 and becomes 1092\n",
      "j increases by 1 and becomes 1239\n",
      "j increases by 1 and becomes 1435\n",
      "j increases by 1 and becomes 1936\n",
      "j increases by 1 and becomes 1999\n",
      "j increases by 1 and becomes 2000\n",
      "j increases by 1 and becomes 2050\n",
      "j increases by 1 and becomes 2161\n",
      "j increases by 1 and becomes 2167\n",
      "j increases by 1 and becomes 2174\n",
      "j increases by 1 and becomes 2439\n",
      "j increases by 1 and becomes 2468\n",
      "j increases by 1 and becomes 2483\n",
      "j increases by 1 and becomes 3252\n",
      "j increases by 1 and becomes 3378\n",
      "j increases by 1 and becomes 3390\n",
      "j increases by 1 and becomes 3412\n",
      "j increases by 1 and becomes 3497\n",
      "j increases by 1 and becomes 3538\n",
      "j increases by 1 and becomes 3651\n",
      "j increases by 1 and becomes 3714\n",
      "j increases by 1 and becomes 3715\n",
      "j increases by 1 and becomes 3774\n",
      "j increases by 1 and becomes 3801\n",
      "j increases by 1 and becomes 4146\n",
      "j increases by 1 and becomes 4155\n",
      "j increases by 1 and becomes 4181\n",
      "j increases by 1 and becomes 4208\n",
      "j increases by 1 and becomes 4216\n",
      "j increases by 1 and becomes 4237\n",
      "j increases by 1 and becomes 4256\n",
      "j increases by 1 and becomes 4445\n",
      "j increases by 1 and becomes 4524\n",
      "j increases by 1 and becomes 4526\n",
      "j increases by 1 and becomes 4610\n",
      "j increases by 1 and becomes 4688\n",
      "j increases by 1 and becomes 4790\n",
      "j increases by 1 and becomes 4821\n",
      "j increases by 1 and becomes 4986\n",
      "j increases by 1 and becomes 5251\n",
      "j increases by 1 and becomes 5426\n",
      "j increases by 1 and becomes 5450\n",
      "j increases by 1 and becomes 5458\n",
      "j increases by 1 and becomes 5516\n",
      "j increases by 1 and becomes 5548\n"
     ]
    }
   ],
   "source": [
    "j=0\n",
    "for i in range(len(start_product)):\n",
    "    while (e_review[j]<=end_product[i]):\n",
    "        df2.loc[j] = [j, i+1, content[start_review[j]+14:e_review[j]]]\n",
    "        j = j + 1\n",
    "        if (j==(len(e_review)-1)):\n",
    "            break\n",
    "    print(\"j increases by 1 and becomes\", j)"
   ]
  },
  {
   "cell_type": "markdown",
   "metadata": {},
   "source": [
    "Saving the file"
   ]
  },
  {
   "cell_type": "code",
   "execution_count": 15,
   "metadata": {},
   "outputs": [],
   "source": [
    "df2.to_csv(\"Reviews_TestData.csv\")"
   ]
  },
  {
   "cell_type": "markdown",
   "metadata": {},
   "source": [
    "# Saving Question and Answer Pairs as well"
   ]
  },
  {
   "cell_type": "code",
   "execution_count": 16,
   "metadata": {},
   "outputs": [],
   "source": [
    "#Initializing DataFrames\n",
    "df3 = pd.DataFrame(columns = ['Prod_ID','Ques_ID','Question Text','Ans_ID','Ans_Text'])"
   ]
  },
  {
   "cell_type": "code",
   "execution_count": 17,
   "metadata": {},
   "outputs": [],
   "source": [
    "start_product = [i.start() for i in re.finditer(\"{'asin': \", content)]\n",
    "end_product = [i.start() for i in re.finditer(\"'category': 'Baby'}\", content)]\n",
    "start_question = [i.start() for i in re.finditer(\"'questionText': \", content)]\n",
    "end_question = [i.start() for i in re.finditer(\", 'answers':\", content)]\n",
    "start_ans = [i.start() for i in re.finditer(\"{'answerText': \", content)]\n",
    "end_ans = [i.start() for i in re.finditer(\"'answerType': \", content)]"
   ]
  },
  {
   "cell_type": "markdown",
   "metadata": {},
   "source": [
    "Extracting each Question, its corresponding Product ID, and all the Answers tagged to it"
   ]
  },
  {
   "cell_type": "code",
   "execution_count": 18,
   "metadata": {},
   "outputs": [
    {
     "name": "stdout",
     "output_type": "stream",
     "text": [
      "i increases by 1 and becomes 0\n",
      "i increases by 1 and becomes 1\n",
      "i increases by 1 and becomes 2\n",
      "i increases by 1 and becomes 3\n",
      "i increases by 1 and becomes 4\n",
      "i increases by 1 and becomes 5\n",
      "i increases by 1 and becomes 6\n",
      "i increases by 1 and becomes 7\n",
      "i increases by 1 and becomes 8\n",
      "i increases by 1 and becomes 9\n",
      "i increases by 1 and becomes 10\n",
      "i increases by 1 and becomes 11\n",
      "i increases by 1 and becomes 12\n",
      "i increases by 1 and becomes 13\n",
      "i increases by 1 and becomes 14\n",
      "i increases by 1 and becomes 15\n",
      "i increases by 1 and becomes 16\n",
      "i increases by 1 and becomes 17\n",
      "i increases by 1 and becomes 18\n",
      "i increases by 1 and becomes 19\n",
      "i increases by 1 and becomes 20\n",
      "i increases by 1 and becomes 21\n",
      "i increases by 1 and becomes 22\n",
      "i increases by 1 and becomes 23\n",
      "i increases by 1 and becomes 24\n",
      "i increases by 1 and becomes 25\n",
      "i increases by 1 and becomes 26\n",
      "i increases by 1 and becomes 27\n",
      "i increases by 1 and becomes 28\n",
      "i increases by 1 and becomes 29\n",
      "i increases by 1 and becomes 30\n",
      "i increases by 1 and becomes 31\n",
      "i increases by 1 and becomes 32\n",
      "i increases by 1 and becomes 33\n",
      "i increases by 1 and becomes 34\n",
      "i increases by 1 and becomes 35\n",
      "i increases by 1 and becomes 36\n",
      "i increases by 1 and becomes 37\n",
      "i increases by 1 and becomes 38\n",
      "i increases by 1 and becomes 39\n",
      "i increases by 1 and becomes 40\n",
      "i increases by 1 and becomes 41\n",
      "i increases by 1 and becomes 42\n",
      "i increases by 1 and becomes 43\n",
      "i increases by 1 and becomes 44\n",
      "i increases by 1 and becomes 45\n",
      "i increases by 1 and becomes 46\n",
      "i increases by 1 and becomes 47\n",
      "i increases by 1 and becomes 48\n",
      "i increases by 1 and becomes 49\n",
      "i increases by 1 and becomes 50\n"
     ]
    }
   ],
   "source": [
    "j=0\n",
    "k=0\n",
    "for i in range(len(start_product)-1):\n",
    "    while (start_question[j]<start_product[i+1]):\n",
    "        X = content[start_question[j]+17:end_question[j]-32]\n",
    "        while (start_ans[k]<start_question[j+1]):\n",
    "            df3.loc[k] = [i+1, j, X, k, content[start_ans[k]+16:end_ans[k]-3]]\n",
    "            k = k + 1\n",
    "        j = j + 1\n",
    "    print(\"i increases by 1 and becomes\", i)"
   ]
  },
  {
   "cell_type": "code",
   "execution_count": 19,
   "metadata": {},
   "outputs": [],
   "source": [
    "df3.to_csv(\"Questions_Answers_TrainingData.csv\")"
   ]
  },
  {
   "cell_type": "markdown",
   "metadata": {},
   "source": [
    "# Extraction Complete"
   ]
  }
 ],
 "metadata": {
  "kernelspec": {
   "display_name": "Python 3",
   "language": "python",
   "name": "python3"
  },
  "language_info": {
   "codemirror_mode": {
    "name": "ipython",
    "version": 3
   },
   "file_extension": ".py",
   "mimetype": "text/x-python",
   "name": "python",
   "nbconvert_exporter": "python",
   "pygments_lexer": "ipython3",
   "version": "3.7.1"
  }
 },
 "nbformat": 4,
 "nbformat_minor": 2
}
