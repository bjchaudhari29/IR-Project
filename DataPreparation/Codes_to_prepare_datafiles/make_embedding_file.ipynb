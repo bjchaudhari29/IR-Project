{
 "cells": [
  {
   "cell_type": "markdown",
   "metadata": {
    "_uuid": "84163f3ca19c0b7c9fda47121b3bc4cadfaf1fcc"
   },
   "source": [
    "# Creating Embredding file using Word2Vec"
   ]
  },
  {
   "cell_type": "code",
   "execution_count": 2,
   "metadata": {
    "_uuid": "cc7b3e6ca62670ff13626705402f626778487204"
   },
   "outputs": [
    {
     "name": "stderr",
     "output_type": "stream",
     "text": [
      "C:\\Users\\miman\\Anaconda3\\lib\\site-packages\\tensorflow\\python\\framework\\dtypes.py:516: FutureWarning: Passing (type, 1) or '1type' as a synonym of type is deprecated; in a future version of numpy, it will be understood as (type, (1,)) / '(1,)type'.\n",
      "  _np_qint8 = np.dtype([(\"qint8\", np.int8, 1)])\n",
      "C:\\Users\\miman\\Anaconda3\\lib\\site-packages\\tensorflow\\python\\framework\\dtypes.py:517: FutureWarning: Passing (type, 1) or '1type' as a synonym of type is deprecated; in a future version of numpy, it will be understood as (type, (1,)) / '(1,)type'.\n",
      "  _np_quint8 = np.dtype([(\"quint8\", np.uint8, 1)])\n",
      "C:\\Users\\miman\\Anaconda3\\lib\\site-packages\\tensorflow\\python\\framework\\dtypes.py:518: FutureWarning: Passing (type, 1) or '1type' as a synonym of type is deprecated; in a future version of numpy, it will be understood as (type, (1,)) / '(1,)type'.\n",
      "  _np_qint16 = np.dtype([(\"qint16\", np.int16, 1)])\n",
      "C:\\Users\\miman\\Anaconda3\\lib\\site-packages\\tensorflow\\python\\framework\\dtypes.py:519: FutureWarning: Passing (type, 1) or '1type' as a synonym of type is deprecated; in a future version of numpy, it will be understood as (type, (1,)) / '(1,)type'.\n",
      "  _np_quint16 = np.dtype([(\"quint16\", np.uint16, 1)])\n",
      "C:\\Users\\miman\\Anaconda3\\lib\\site-packages\\tensorflow\\python\\framework\\dtypes.py:520: FutureWarning: Passing (type, 1) or '1type' as a synonym of type is deprecated; in a future version of numpy, it will be understood as (type, (1,)) / '(1,)type'.\n",
      "  _np_qint32 = np.dtype([(\"qint32\", np.int32, 1)])\n",
      "C:\\Users\\miman\\Anaconda3\\lib\\site-packages\\tensorflow\\python\\framework\\dtypes.py:525: FutureWarning: Passing (type, 1) or '1type' as a synonym of type is deprecated; in a future version of numpy, it will be understood as (type, (1,)) / '(1,)type'.\n",
      "  np_resource = np.dtype([(\"resource\", np.ubyte, 1)])\n",
      "C:\\Users\\miman\\Anaconda3\\lib\\site-packages\\tensorboard\\compat\\tensorflow_stub\\dtypes.py:541: FutureWarning: Passing (type, 1) or '1type' as a synonym of type is deprecated; in a future version of numpy, it will be understood as (type, (1,)) / '(1,)type'.\n",
      "  _np_qint8 = np.dtype([(\"qint8\", np.int8, 1)])\n",
      "C:\\Users\\miman\\Anaconda3\\lib\\site-packages\\tensorboard\\compat\\tensorflow_stub\\dtypes.py:542: FutureWarning: Passing (type, 1) or '1type' as a synonym of type is deprecated; in a future version of numpy, it will be understood as (type, (1,)) / '(1,)type'.\n",
      "  _np_quint8 = np.dtype([(\"quint8\", np.uint8, 1)])\n",
      "C:\\Users\\miman\\Anaconda3\\lib\\site-packages\\tensorboard\\compat\\tensorflow_stub\\dtypes.py:543: FutureWarning: Passing (type, 1) or '1type' as a synonym of type is deprecated; in a future version of numpy, it will be understood as (type, (1,)) / '(1,)type'.\n",
      "  _np_qint16 = np.dtype([(\"qint16\", np.int16, 1)])\n",
      "C:\\Users\\miman\\Anaconda3\\lib\\site-packages\\tensorboard\\compat\\tensorflow_stub\\dtypes.py:544: FutureWarning: Passing (type, 1) or '1type' as a synonym of type is deprecated; in a future version of numpy, it will be understood as (type, (1,)) / '(1,)type'.\n",
      "  _np_quint16 = np.dtype([(\"quint16\", np.uint16, 1)])\n",
      "C:\\Users\\miman\\Anaconda3\\lib\\site-packages\\tensorboard\\compat\\tensorflow_stub\\dtypes.py:545: FutureWarning: Passing (type, 1) or '1type' as a synonym of type is deprecated; in a future version of numpy, it will be understood as (type, (1,)) / '(1,)type'.\n",
      "  _np_qint32 = np.dtype([(\"qint32\", np.int32, 1)])\n",
      "C:\\Users\\miman\\Anaconda3\\lib\\site-packages\\tensorboard\\compat\\tensorflow_stub\\dtypes.py:550: FutureWarning: Passing (type, 1) or '1type' as a synonym of type is deprecated; in a future version of numpy, it will be understood as (type, (1,)) / '(1,)type'.\n",
      "  np_resource = np.dtype([(\"resource\", np.ubyte, 1)])\n"
     ]
    }
   ],
   "source": [
    "import re \n",
    "import pandas as pd \n",
    "from time import time \n",
    "from collections import defaultdict\n",
    "import pandas as pd\n",
    "import numpy as np\n",
    "\n",
    "from gensim.models import Word2Vec\n",
    "import nltk\n",
    "from nltk.stem import WordNetLemmatizer\n",
    "from nltk.tokenize import word_tokenize,sent_tokenize\n",
    "from nltk import pos_tag\n",
    "from nltk.corpus import wordnet\n",
    "import tensorflow as tf\n",
    "from tensorflow import keras\n",
    "from tensorflow.keras.preprocessing.text import Tokenizer\n",
    "from tensorflow.keras.preprocessing.sequence import pad_sequences\n",
    "import spacy\n",
    "\n",
    "import logging  # Setting up the loggings to monitor gensim\n",
    "logging.basicConfig(format=\"%(levelname)s - %(asctime)s: %(message)s\", datefmt= '%H:%M:%S', level=logging.INFO)"
   ]
  },
  {
   "cell_type": "markdown",
   "metadata": {},
   "source": [
    "Using the below 2 files to create embeddings"
   ]
  },
  {
   "cell_type": "code",
   "execution_count": 3,
   "metadata": {},
   "outputs": [],
   "source": [
    "questions = pd.read_csv('Questions_Answers_126Products.csv')\n",
    "reviews = pd.read_csv('Reviews_126Products.csv')"
   ]
  },
  {
   "cell_type": "code",
   "execution_count": 4,
   "metadata": {},
   "outputs": [
    {
     "data": {
      "text/html": [
       "<div>\n",
       "<style scoped>\n",
       "    .dataframe tbody tr th:only-of-type {\n",
       "        vertical-align: middle;\n",
       "    }\n",
       "\n",
       "    .dataframe tbody tr th {\n",
       "        vertical-align: top;\n",
       "    }\n",
       "\n",
       "    .dataframe thead th {\n",
       "        text-align: right;\n",
       "    }\n",
       "</style>\n",
       "<table border=\"1\" class=\"dataframe\">\n",
       "  <thead>\n",
       "    <tr style=\"text-align: right;\">\n",
       "      <th></th>\n",
       "      <th>Prod_ID</th>\n",
       "      <th>Ques_ID</th>\n",
       "      <th>Question Text</th>\n",
       "      <th>Ans_ID</th>\n",
       "      <th>Ans_Text</th>\n",
       "      <th>Q_A</th>\n",
       "    </tr>\n",
       "  </thead>\n",
       "  <tbody>\n",
       "    <tr>\n",
       "      <th>0</th>\n",
       "      <td>1</td>\n",
       "      <td>0</td>\n",
       "      <td>Will this keep a strong 6 year old out of my c...</td>\n",
       "      <td>0</td>\n",
       "      <td>Yes, the locks will keep adults out too.  My h...</td>\n",
       "      <td>Will this keep a strong 6 year old out of my c...</td>\n",
       "    </tr>\n",
       "    <tr>\n",
       "      <th>1</th>\n",
       "      <td>1</td>\n",
       "      <td>0</td>\n",
       "      <td>Will this keep a strong 6 year old out of my c...</td>\n",
       "      <td>1</td>\n",
       "      <td>Yes if you install it correctly.  a lot of fol...</td>\n",
       "      <td>Will this keep a strong 6 year old out of my c...</td>\n",
       "    </tr>\n",
       "    <tr>\n",
       "      <th>2</th>\n",
       "      <td>1</td>\n",
       "      <td>0</td>\n",
       "      <td>Will this keep a strong 6 year old out of my c...</td>\n",
       "      <td>2</td>\n",
       "      <td>It probably will...  it's pretty good and much...</td>\n",
       "      <td>Will this keep a strong 6 year old out of my c...</td>\n",
       "    </tr>\n",
       "    <tr>\n",
       "      <th>3</th>\n",
       "      <td>1</td>\n",
       "      <td>1</td>\n",
       "      <td>What's the difference between this and the reg...</td>\n",
       "      <td>3</td>\n",
       "      <td>The size of the locking mechanism. I bought th...</td>\n",
       "      <td>What's the difference between this and the reg...</td>\n",
       "    </tr>\n",
       "    <tr>\n",
       "      <th>4</th>\n",
       "      <td>1</td>\n",
       "      <td>1</td>\n",
       "      <td>What's the difference between this and the reg...</td>\n",
       "      <td>4</td>\n",
       "      <td>The locking mechanism unlocks with the magnet .</td>\n",
       "      <td>What's the difference between this and the reg...</td>\n",
       "    </tr>\n",
       "  </tbody>\n",
       "</table>\n",
       "</div>"
      ],
      "text/plain": [
       "   Prod_ID  Ques_ID                                      Question Text  \\\n",
       "0        1        0  Will this keep a strong 6 year old out of my c...   \n",
       "1        1        0  Will this keep a strong 6 year old out of my c...   \n",
       "2        1        0  Will this keep a strong 6 year old out of my c...   \n",
       "3        1        1  What's the difference between this and the reg...   \n",
       "4        1        1  What's the difference between this and the reg...   \n",
       "\n",
       "   Ans_ID                                           Ans_Text  \\\n",
       "0       0  Yes, the locks will keep adults out too.  My h...   \n",
       "1       1  Yes if you install it correctly.  a lot of fol...   \n",
       "2       2  It probably will...  it's pretty good and much...   \n",
       "3       3  The size of the locking mechanism. I bought th...   \n",
       "4       4    The locking mechanism unlocks with the magnet .   \n",
       "\n",
       "                                                 Q_A  \n",
       "0  Will this keep a strong 6 year old out of my c...  \n",
       "1  Will this keep a strong 6 year old out of my c...  \n",
       "2  Will this keep a strong 6 year old out of my c...  \n",
       "3  What's the difference between this and the reg...  \n",
       "4  What's the difference between this and the reg...  "
      ]
     },
     "execution_count": 4,
     "metadata": {},
     "output_type": "execute_result"
    }
   ],
   "source": [
    "questions.head()"
   ]
  },
  {
   "cell_type": "code",
   "execution_count": 5,
   "metadata": {},
   "outputs": [
    {
     "data": {
      "text/html": [
       "<div>\n",
       "<style scoped>\n",
       "    .dataframe tbody tr th:only-of-type {\n",
       "        vertical-align: middle;\n",
       "    }\n",
       "\n",
       "    .dataframe tbody tr th {\n",
       "        vertical-align: top;\n",
       "    }\n",
       "\n",
       "    .dataframe thead th {\n",
       "        text-align: right;\n",
       "    }\n",
       "</style>\n",
       "<table border=\"1\" class=\"dataframe\">\n",
       "  <thead>\n",
       "    <tr style=\"text-align: right;\">\n",
       "      <th></th>\n",
       "      <th>Review_ID</th>\n",
       "      <th>Product ID</th>\n",
       "      <th>Review_Text</th>\n",
       "    </tr>\n",
       "  </thead>\n",
       "  <tbody>\n",
       "    <tr>\n",
       "      <th>0</th>\n",
       "      <td>0</td>\n",
       "      <td>1</td>\n",
       "      <td>'not really as portrayed on video</td>\n",
       "    </tr>\n",
       "    <tr>\n",
       "      <th>1</th>\n",
       "      <td>1</td>\n",
       "      <td>1</td>\n",
       "      <td>'HORRIBLE installation experience. Installed p...</td>\n",
       "    </tr>\n",
       "    <tr>\n",
       "      <th>2</th>\n",
       "      <td>2</td>\n",
       "      <td>1</td>\n",
       "      <td>'I wish we'd bought the cheaper \\'push latch\\'...</td>\n",
       "    </tr>\n",
       "    <tr>\n",
       "      <th>3</th>\n",
       "      <td>3</td>\n",
       "      <td>1</td>\n",
       "      <td>'The concept is great, but these things are a ...</td>\n",
       "    </tr>\n",
       "    <tr>\n",
       "      <th>4</th>\n",
       "      <td>4</td>\n",
       "      <td>1</td>\n",
       "      <td>'My husband installed 4 of these locks on my s...</td>\n",
       "    </tr>\n",
       "  </tbody>\n",
       "</table>\n",
       "</div>"
      ],
      "text/plain": [
       "   Review_ID  Product ID                                        Review_Text\n",
       "0          0           1                  'not really as portrayed on video\n",
       "1          1           1  'HORRIBLE installation experience. Installed p...\n",
       "2          2           1  'I wish we'd bought the cheaper \\'push latch\\'...\n",
       "3          3           1  'The concept is great, but these things are a ...\n",
       "4          4           1  'My husband installed 4 of these locks on my s..."
      ]
     },
     "execution_count": 5,
     "metadata": {},
     "output_type": "execute_result"
    }
   ],
   "source": [
    "reviews.head()"
   ]
  },
  {
   "cell_type": "code",
   "execution_count": 6,
   "metadata": {},
   "outputs": [],
   "source": [
    "from string import punctuation\n",
    "punctuation = list(punctuation)\n",
    "lemmatizer = WordNetLemmatizer()\n",
    "def lemmatize_words(text):\n",
    "    final_text = []\n",
    "    for i in text.split():\n",
    "        if i.strip().lower() not in punctuation:\n",
    "           # pos = pos_tag([i.strip()])\n",
    "            word = lemmatizer.lemmatize(i.strip())\n",
    "            final_text.append(word.lower())\n",
    "    return \" \".join(final_text)"
   ]
  },
  {
   "cell_type": "code",
   "execution_count": 7,
   "metadata": {},
   "outputs": [],
   "source": [
    "reviews = reviews.dropna()\n",
    "questions = questions.dropna()\n",
    "questions['Q'] = questions.Q_A.apply(lemmatize_words)\n",
    "reviews['R'] = reviews.Review_Text.apply(lemmatize_words)\n",
    "import re,string,unicodedata\n",
    "questions.Q = [re.sub(r'\\d+', '', x) for x in questions.Q]\n",
    "reviews.R = [re.sub(r'\\d+', '', x) for x in reviews.R]"
   ]
  },
  {
   "cell_type": "code",
   "execution_count": 8,
   "metadata": {},
   "outputs": [
    {
     "name": "stderr",
     "output_type": "stream",
     "text": [
      "C:\\Users\\miman\\Anaconda3\\lib\\site-packages\\ipykernel_launcher.py:1: DeprecationWarning: The default dtype for empty Series will be 'object' instead of 'float64' in a future version. Specify a dtype explicitly to silence this warning.\n",
      "  \"\"\"Entry point for launching an IPython kernel.\n"
     ]
    },
    {
     "data": {
      "text/plain": [
       "30304"
      ]
     },
     "execution_count": 8,
     "metadata": {},
     "output_type": "execute_result"
    }
   ],
   "source": [
    "all_sentences = pd.Series()\n",
    "all_sentences=all_sentences.append(questions.Q)\n",
    "all_sentences=all_sentences.append(reviews.R)\n",
    "len(all_sentences)"
   ]
  },
  {
   "cell_type": "code",
   "execution_count": 8,
   "metadata": {},
   "outputs": [],
   "source": [
    "all_sen = []\n",
    "for i in all_sentences:\n",
    "    all_sen.append(i.split())\n",
    "\n",
    "flat_all_sen = []\n",
    "for sublist in all_sen:\n",
    "    for item in sublist:\n",
    "        if item!=-1 or item:\n",
    "            flat_all_sen.append(item)"
   ]
  },
  {
   "cell_type": "markdown",
   "metadata": {},
   "source": [
    "#### Creating Word2Vec model"
   ]
  },
  {
   "cell_type": "code",
   "execution_count": 13,
   "metadata": {},
   "outputs": [],
   "source": [
    "w2v_model = Word2Vec(min_count=1,size=100,)"
   ]
  },
  {
   "cell_type": "code",
   "execution_count": 14,
   "metadata": {},
   "outputs": [
    {
     "name": "stderr",
     "output_type": "stream",
     "text": [
      "INFO - 02:10:38: collecting all words and their counts\n",
      "INFO - 02:10:38: PROGRESS: at sentence #0, processed 0 words, keeping 0 word types\n",
      "INFO - 02:10:38: PROGRESS: at sentence #10000, processed 800902 words, keeping 33322 word types\n",
      "INFO - 02:10:38: PROGRESS: at sentence #20000, processed 1640754 words, keeping 55448 word types\n",
      "INFO - 02:10:38: PROGRESS: at sentence #30000, processed 2494651 words, keeping 74401 word types\n",
      "INFO - 02:10:38: collected 74916 word types from a corpus of 2521765 raw words and 30304 sentences\n",
      "INFO - 02:10:38: Loading a fresh vocabulary\n",
      "INFO - 02:10:38: effective_min_count=1 retains 74916 unique words (100% of original 74916, drops 0)\n",
      "INFO - 02:10:38: effective_min_count=1 leaves 2521765 word corpus (100% of original 2521765, drops 0)\n",
      "INFO - 02:10:39: deleting the raw counts dictionary of 74916 items\n",
      "INFO - 02:10:39: sample=0.001 downsamples 52 most-common words\n",
      "INFO - 02:10:39: downsampling leaves estimated 1873167 word corpus (74.3% of prior 2521765)\n",
      "INFO - 02:10:39: estimated required memory for 74916 words and 100 dimensions: 97390800 bytes\n",
      "INFO - 02:10:39: resetting layer weights\n"
     ]
    },
    {
     "name": "stdout",
     "output_type": "stream",
     "text": [
      "Time to build vocab: 0.2 mins\n"
     ]
    }
   ],
   "source": [
    "t = time()\n",
    "w2v_model.build_vocab(all_sen)\n",
    "print('Time to build vocab: {} mins'.format(round((time() - t) / 60, 2)))"
   ]
  },
  {
   "cell_type": "code",
   "execution_count": 15,
   "metadata": {},
   "outputs": [
    {
     "data": {
      "text/plain": [
       "30304"
      ]
     },
     "execution_count": 15,
     "metadata": {},
     "output_type": "execute_result"
    }
   ],
   "source": [
    "w2v_model.corpus_count"
   ]
  },
  {
   "cell_type": "code",
   "execution_count": 16,
   "metadata": {
    "_uuid": "07a2a047e701e512fd758edff186daadaeea6461"
   },
   "outputs": [
    {
     "name": "stderr",
     "output_type": "stream",
     "text": [
      "INFO - 02:11:06: training model with 3 workers on 74916 vocabulary and 100 features, using sg=0 hs=0 sample=0.001 negative=5 window=5\n",
      "INFO - 02:11:07: EPOCH 1 - PROGRESS: at 25.80% examples, 2137593 words/s, in_qsize 5, out_qsize 0\n",
      "INFO - 02:11:08: EPOCH 1 - PROGRESS: at 46.17% examples, 2141970 words/s, in_qsize 6, out_qsize 1\n",
      "INFO - 02:11:09: EPOCH 1 - PROGRESS: at 70.60% examples, 2188896 words/s, in_qsize 5, out_qsize 0\n",
      "INFO - 02:11:10: EPOCH 1 - PROGRESS: at 95.48% examples, 2210994 words/s, in_qsize 5, out_qsize 0\n",
      "INFO - 02:11:10: worker thread finished; awaiting finish of 2 more threads\n",
      "INFO - 02:11:10: worker thread finished; awaiting finish of 1 more threads\n",
      "INFO - 02:11:10: worker thread finished; awaiting finish of 0 more threads\n",
      "INFO - 02:11:10: EPOCH - 1 : training on 13081757 raw words (9375012 effective words) took 4.2s, 2212846 effective words/s\n",
      "INFO - 02:11:11: EPOCH 2 - PROGRESS: at 26.87% examples, 2247671 words/s, in_qsize 5, out_qsize 0\n",
      "INFO - 02:11:12: EPOCH 2 - PROGRESS: at 47.62% examples, 2259160 words/s, in_qsize 5, out_qsize 0\n",
      "INFO - 02:11:13: EPOCH 2 - PROGRESS: at 72.38% examples, 2258409 words/s, in_qsize 5, out_qsize 0\n",
      "INFO - 02:11:14: EPOCH 2 - PROGRESS: at 97.88% examples, 2278286 words/s, in_qsize 5, out_qsize 0\n",
      "INFO - 02:11:14: worker thread finished; awaiting finish of 2 more threads\n",
      "INFO - 02:11:14: worker thread finished; awaiting finish of 1 more threads\n",
      "INFO - 02:11:14: worker thread finished; awaiting finish of 0 more threads\n",
      "INFO - 02:11:14: EPOCH - 2 : training on 13081757 raw words (9374637 effective words) took 4.1s, 2279954 effective words/s\n",
      "INFO - 02:11:15: EPOCH 3 - PROGRESS: at 27.84% examples, 2324426 words/s, in_qsize 5, out_qsize 0\n",
      "INFO - 02:11:16: EPOCH 3 - PROGRESS: at 48.81% examples, 2333349 words/s, in_qsize 5, out_qsize 0\n",
      "INFO - 02:11:17: EPOCH 3 - PROGRESS: at 74.01% examples, 2335252 words/s, in_qsize 5, out_qsize 0\n",
      "INFO - 02:11:18: worker thread finished; awaiting finish of 2 more threads\n",
      "INFO - 02:11:18: EPOCH 3 - PROGRESS: at 99.95% examples, 2336352 words/s, in_qsize 1, out_qsize 1\n",
      "INFO - 02:11:18: worker thread finished; awaiting finish of 1 more threads\n",
      "INFO - 02:11:18: worker thread finished; awaiting finish of 0 more threads\n",
      "INFO - 02:11:18: EPOCH - 3 : training on 13081757 raw words (9375028 effective words) took 4.0s, 2335930 effective words/s\n",
      "INFO - 02:11:19: EPOCH 4 - PROGRESS: at 27.36% examples, 2287528 words/s, in_qsize 5, out_qsize 0\n",
      "INFO - 02:11:20: EPOCH 4 - PROGRESS: at 48.14% examples, 2291676 words/s, in_qsize 6, out_qsize 0\n",
      "INFO - 02:11:22: EPOCH 4 - PROGRESS: at 73.29% examples, 2296287 words/s, in_qsize 5, out_qsize 0\n",
      "INFO - 02:11:23: EPOCH 4 - PROGRESS: at 98.59% examples, 2298020 words/s, in_qsize 5, out_qsize 0\n",
      "INFO - 02:11:23: worker thread finished; awaiting finish of 2 more threads\n",
      "INFO - 02:11:23: worker thread finished; awaiting finish of 1 more threads\n",
      "INFO - 02:11:23: worker thread finished; awaiting finish of 0 more threads\n",
      "INFO - 02:11:23: EPOCH - 4 : training on 13081757 raw words (9374534 effective words) took 4.1s, 2298863 effective words/s\n",
      "INFO - 02:11:24: EPOCH 5 - PROGRESS: at 27.84% examples, 2318094 words/s, in_qsize 6, out_qsize 0\n",
      "INFO - 02:11:25: EPOCH 5 - PROGRESS: at 48.89% examples, 2335513 words/s, in_qsize 5, out_qsize 0\n",
      "INFO - 02:11:26: EPOCH 5 - PROGRESS: at 73.92% examples, 2329979 words/s, in_qsize 6, out_qsize 0\n",
      "INFO - 02:11:27: EPOCH 5 - PROGRESS: at 97.98% examples, 2278162 words/s, in_qsize 5, out_qsize 0\n",
      "INFO - 02:11:27: worker thread finished; awaiting finish of 2 more threads\n",
      "INFO - 02:11:27: worker thread finished; awaiting finish of 1 more threads\n",
      "INFO - 02:11:27: worker thread finished; awaiting finish of 0 more threads\n",
      "INFO - 02:11:27: EPOCH - 5 : training on 13081757 raw words (9374059 effective words) took 4.1s, 2277810 effective words/s\n",
      "INFO - 02:11:28: EPOCH 6 - PROGRESS: at 27.46% examples, 2292319 words/s, in_qsize 5, out_qsize 0\n",
      "INFO - 02:11:29: EPOCH 6 - PROGRESS: at 47.80% examples, 2266229 words/s, in_qsize 5, out_qsize 0\n",
      "INFO - 02:11:30: EPOCH 6 - PROGRESS: at 72.75% examples, 2269571 words/s, in_qsize 5, out_qsize 0\n",
      "INFO - 02:11:31: EPOCH 6 - PROGRESS: at 97.84% examples, 2275698 words/s, in_qsize 5, out_qsize 0\n",
      "INFO - 02:11:31: worker thread finished; awaiting finish of 2 more threads\n",
      "INFO - 02:11:31: worker thread finished; awaiting finish of 1 more threads\n",
      "INFO - 02:11:31: worker thread finished; awaiting finish of 0 more threads\n",
      "INFO - 02:11:31: EPOCH - 6 : training on 13081757 raw words (9374895 effective words) took 4.1s, 2275382 effective words/s\n",
      "INFO - 02:11:32: EPOCH 7 - PROGRESS: at 26.60% examples, 2222494 words/s, in_qsize 5, out_qsize 0\n",
      "INFO - 02:11:33: EPOCH 7 - PROGRESS: at 46.57% examples, 2187651 words/s, in_qsize 5, out_qsize 0\n",
      "INFO - 02:11:34: EPOCH 7 - PROGRESS: at 71.31% examples, 2220588 words/s, in_qsize 5, out_qsize 0\n",
      "INFO - 02:11:35: EPOCH 7 - PROGRESS: at 96.53% examples, 2237819 words/s, in_qsize 5, out_qsize 0\n",
      "INFO - 02:11:35: worker thread finished; awaiting finish of 2 more threads\n",
      "INFO - 02:11:35: worker thread finished; awaiting finish of 1 more threads\n",
      "INFO - 02:11:35: worker thread finished; awaiting finish of 0 more threads\n",
      "INFO - 02:11:35: EPOCH - 7 : training on 13081757 raw words (9375245 effective words) took 4.2s, 2242788 effective words/s\n",
      "INFO - 02:11:36: EPOCH 8 - PROGRESS: at 27.92% examples, 2338053 words/s, in_qsize 6, out_qsize 0\n",
      "INFO - 02:11:37: EPOCH 8 - PROGRESS: at 48.54% examples, 2322008 words/s, in_qsize 5, out_qsize 0\n",
      "INFO - 02:11:38: EPOCH 8 - PROGRESS: at 73.92% examples, 2333995 words/s, in_qsize 5, out_qsize 0\n",
      "INFO - 02:11:39: worker thread finished; awaiting finish of 2 more threads\n",
      "INFO - 02:11:39: EPOCH 8 - PROGRESS: at 99.95% examples, 2339973 words/s, in_qsize 1, out_qsize 1\n",
      "INFO - 02:11:39: worker thread finished; awaiting finish of 1 more threads\n",
      "INFO - 02:11:39: worker thread finished; awaiting finish of 0 more threads\n",
      "INFO - 02:11:39: EPOCH - 8 : training on 13081757 raw words (9374488 effective words) took 4.0s, 2338631 effective words/s\n",
      "INFO - 02:11:40: EPOCH 9 - PROGRESS: at 28.30% examples, 2370699 words/s, in_qsize 5, out_qsize 0\n",
      "INFO - 02:11:41: EPOCH 9 - PROGRESS: at 49.45% examples, 2373249 words/s, in_qsize 5, out_qsize 0\n",
      "INFO - 02:11:42: EPOCH 9 - PROGRESS: at 75.40% examples, 2373630 words/s, in_qsize 5, out_qsize 0\n",
      "INFO - 02:11:43: worker thread finished; awaiting finish of 2 more threads\n",
      "INFO - 02:11:43: worker thread finished; awaiting finish of 1 more threads\n",
      "INFO - 02:11:43: worker thread finished; awaiting finish of 0 more threads\n",
      "INFO - 02:11:43: EPOCH - 9 : training on 13081757 raw words (9374960 effective words) took 3.9s, 2378040 effective words/s\n",
      "INFO - 02:11:44: EPOCH 10 - PROGRESS: at 27.84% examples, 2326553 words/s, in_qsize 5, out_qsize 0\n",
      "INFO - 02:11:45: EPOCH 10 - PROGRESS: at 48.49% examples, 2313300 words/s, in_qsize 5, out_qsize 0\n",
      "INFO - 02:11:46: EPOCH 10 - PROGRESS: at 73.54% examples, 2309427 words/s, in_qsize 5, out_qsize 0\n",
      "INFO - 02:11:47: EPOCH 10 - PROGRESS: at 98.72% examples, 2303358 words/s, in_qsize 5, out_qsize 0\n",
      "INFO - 02:11:47: worker thread finished; awaiting finish of 2 more threads\n",
      "INFO - 02:11:47: worker thread finished; awaiting finish of 1 more threads\n",
      "INFO - 02:11:47: worker thread finished; awaiting finish of 0 more threads\n",
      "INFO - 02:11:47: EPOCH - 10 : training on 13081757 raw words (9374128 effective words) took 4.1s, 2303607 effective words/s\n",
      "INFO - 02:11:48: EPOCH 11 - PROGRESS: at 27.53% examples, 2301738 words/s, in_qsize 5, out_qsize 0\n",
      "INFO - 02:11:49: EPOCH 11 - PROGRESS: at 48.49% examples, 2316968 words/s, in_qsize 5, out_qsize 0\n",
      "INFO - 02:11:50: EPOCH 11 - PROGRESS: at 73.71% examples, 2319863 words/s, in_qsize 5, out_qsize 0\n",
      "INFO - 02:11:51: EPOCH 11 - PROGRESS: at 99.16% examples, 2323248 words/s, in_qsize 5, out_qsize 0\n",
      "INFO - 02:11:51: worker thread finished; awaiting finish of 2 more threads\n",
      "INFO - 02:11:51: worker thread finished; awaiting finish of 1 more threads\n",
      "INFO - 02:11:51: worker thread finished; awaiting finish of 0 more threads\n",
      "INFO - 02:11:51: EPOCH - 11 : training on 13081757 raw words (9374074 effective words) took 4.0s, 2321290 effective words/s\n",
      "INFO - 02:11:52: EPOCH 12 - PROGRESS: at 28.30% examples, 2367095 words/s, in_qsize 5, out_qsize 0\n"
     ]
    },
    {
     "name": "stderr",
     "output_type": "stream",
     "text": [
      "INFO - 02:11:53: EPOCH 12 - PROGRESS: at 49.59% examples, 2379635 words/s, in_qsize 5, out_qsize 0\n",
      "INFO - 02:11:54: EPOCH 12 - PROGRESS: at 75.74% examples, 2380304 words/s, in_qsize 5, out_qsize 0\n",
      "INFO - 02:11:55: worker thread finished; awaiting finish of 2 more threads\n",
      "INFO - 02:11:55: worker thread finished; awaiting finish of 1 more threads\n",
      "INFO - 02:11:55: worker thread finished; awaiting finish of 0 more threads\n",
      "INFO - 02:11:55: EPOCH - 12 : training on 13081757 raw words (9374315 effective words) took 3.9s, 2382111 effective words/s\n",
      "INFO - 02:11:56: EPOCH 13 - PROGRESS: at 27.62% examples, 2302956 words/s, in_qsize 5, out_qsize 0\n",
      "INFO - 02:11:57: EPOCH 13 - PROGRESS: at 48.54% examples, 2317277 words/s, in_qsize 5, out_qsize 0\n",
      "INFO - 02:11:58: EPOCH 13 - PROGRESS: at 73.71% examples, 2318407 words/s, in_qsize 5, out_qsize 0\n",
      "INFO - 02:11:59: EPOCH 13 - PROGRESS: at 99.16% examples, 2321304 words/s, in_qsize 5, out_qsize 0\n",
      "INFO - 02:11:59: worker thread finished; awaiting finish of 2 more threads\n",
      "INFO - 02:11:59: worker thread finished; awaiting finish of 1 more threads\n",
      "INFO - 02:11:59: worker thread finished; awaiting finish of 0 more threads\n",
      "INFO - 02:11:59: EPOCH - 13 : training on 13081757 raw words (9374155 effective words) took 4.0s, 2320638 effective words/s\n",
      "INFO - 02:12:00: EPOCH 14 - PROGRESS: at 27.62% examples, 2299680 words/s, in_qsize 5, out_qsize 0\n",
      "INFO - 02:12:01: EPOCH 14 - PROGRESS: at 48.49% examples, 2310711 words/s, in_qsize 5, out_qsize 0\n",
      "INFO - 02:12:02: EPOCH 14 - PROGRESS: at 73.44% examples, 2302349 words/s, in_qsize 6, out_qsize 0\n",
      "INFO - 02:12:03: EPOCH 14 - PROGRESS: at 98.86% examples, 2306867 words/s, in_qsize 5, out_qsize 0\n",
      "INFO - 02:12:03: worker thread finished; awaiting finish of 2 more threads\n",
      "INFO - 02:12:03: worker thread finished; awaiting finish of 1 more threads\n",
      "INFO - 02:12:03: worker thread finished; awaiting finish of 0 more threads\n",
      "INFO - 02:12:03: EPOCH - 14 : training on 13081757 raw words (9374175 effective words) took 4.1s, 2306504 effective words/s\n",
      "INFO - 02:12:04: EPOCH 15 - PROGRESS: at 28.30% examples, 2369250 words/s, in_qsize 5, out_qsize 0\n",
      "INFO - 02:12:05: EPOCH 15 - PROGRESS: at 49.50% examples, 2373425 words/s, in_qsize 5, out_qsize 0\n",
      "INFO - 02:12:06: EPOCH 15 - PROGRESS: at 75.40% examples, 2372083 words/s, in_qsize 5, out_qsize 0\n",
      "INFO - 02:12:07: worker thread finished; awaiting finish of 2 more threads\n",
      "INFO - 02:12:07: worker thread finished; awaiting finish of 1 more threads\n",
      "INFO - 02:12:07: worker thread finished; awaiting finish of 0 more threads\n",
      "INFO - 02:12:07: EPOCH - 15 : training on 13081757 raw words (9374007 effective words) took 4.0s, 2371968 effective words/s\n",
      "INFO - 02:12:08: EPOCH 16 - PROGRESS: at 27.62% examples, 2307682 words/s, in_qsize 5, out_qsize 0\n",
      "INFO - 02:12:09: EPOCH 16 - PROGRESS: at 48.42% examples, 2311815 words/s, in_qsize 5, out_qsize 0\n",
      "INFO - 02:12:10: EPOCH 16 - PROGRESS: at 73.64% examples, 2315316 words/s, in_qsize 5, out_qsize 0\n",
      "INFO - 02:12:11: EPOCH 16 - PROGRESS: at 99.11% examples, 2319147 words/s, in_qsize 5, out_qsize 0\n",
      "INFO - 02:12:11: worker thread finished; awaiting finish of 2 more threads\n",
      "INFO - 02:12:11: worker thread finished; awaiting finish of 1 more threads\n",
      "INFO - 02:12:11: worker thread finished; awaiting finish of 0 more threads\n",
      "INFO - 02:12:11: EPOCH - 16 : training on 13081757 raw words (9374486 effective words) took 4.0s, 2318998 effective words/s\n",
      "INFO - 02:12:12: EPOCH 17 - PROGRESS: at 27.36% examples, 2280256 words/s, in_qsize 5, out_qsize 0\n",
      "INFO - 02:12:13: EPOCH 17 - PROGRESS: at 48.20% examples, 2296282 words/s, in_qsize 5, out_qsize 0\n",
      "INFO - 02:12:14: EPOCH 17 - PROGRESS: at 73.13% examples, 2289620 words/s, in_qsize 5, out_qsize 0\n",
      "INFO - 02:12:15: EPOCH 17 - PROGRESS: at 98.19% examples, 2286112 words/s, in_qsize 5, out_qsize 0\n",
      "INFO - 02:12:15: worker thread finished; awaiting finish of 2 more threads\n",
      "INFO - 02:12:15: worker thread finished; awaiting finish of 1 more threads\n",
      "INFO - 02:12:15: worker thread finished; awaiting finish of 0 more threads\n",
      "INFO - 02:12:15: EPOCH - 17 : training on 13081757 raw words (9375085 effective words) took 4.1s, 2286503 effective words/s\n",
      "INFO - 02:12:16: EPOCH 18 - PROGRESS: at 28.30% examples, 2365932 words/s, in_qsize 5, out_qsize 0\n",
      "INFO - 02:12:17: EPOCH 18 - PROGRESS: at 49.59% examples, 2379290 words/s, in_qsize 5, out_qsize 0\n",
      "INFO - 02:12:18: EPOCH 18 - PROGRESS: at 75.74% examples, 2380231 words/s, in_qsize 5, out_qsize 0\n",
      "INFO - 02:12:19: worker thread finished; awaiting finish of 2 more threads\n",
      "INFO - 02:12:19: worker thread finished; awaiting finish of 1 more threads\n",
      "INFO - 02:12:19: worker thread finished; awaiting finish of 0 more threads\n",
      "INFO - 02:12:19: EPOCH - 18 : training on 13081757 raw words (9374936 effective words) took 3.9s, 2383031 effective words/s\n",
      "INFO - 02:12:20: EPOCH 19 - PROGRESS: at 27.46% examples, 2296710 words/s, in_qsize 5, out_qsize 0\n",
      "INFO - 02:12:21: EPOCH 19 - PROGRESS: at 48.26% examples, 2300739 words/s, in_qsize 5, out_qsize 0\n",
      "INFO - 02:12:22: EPOCH 19 - PROGRESS: at 73.29% examples, 2298491 words/s, in_qsize 6, out_qsize 0\n",
      "INFO - 02:12:23: EPOCH 19 - PROGRESS: at 98.47% examples, 2296302 words/s, in_qsize 5, out_qsize 0\n",
      "INFO - 02:12:23: worker thread finished; awaiting finish of 2 more threads\n",
      "INFO - 02:12:23: worker thread finished; awaiting finish of 1 more threads\n",
      "INFO - 02:12:23: worker thread finished; awaiting finish of 0 more threads\n",
      "INFO - 02:12:23: EPOCH - 19 : training on 13081757 raw words (9374063 effective words) took 4.1s, 2297141 effective words/s\n",
      "INFO - 02:12:24: EPOCH 20 - PROGRESS: at 26.72% examples, 2232323 words/s, in_qsize 5, out_qsize 0\n",
      "INFO - 02:12:25: EPOCH 20 - PROGRESS: at 47.40% examples, 2243320 words/s, in_qsize 5, out_qsize 0\n",
      "INFO - 02:12:26: EPOCH 20 - PROGRESS: at 72.12% examples, 2248644 words/s, in_qsize 5, out_qsize 0\n",
      "INFO - 02:12:27: EPOCH 20 - PROGRESS: at 97.41% examples, 2256780 words/s, in_qsize 5, out_qsize 0\n",
      "INFO - 02:12:27: worker thread finished; awaiting finish of 2 more threads\n",
      "INFO - 02:12:27: worker thread finished; awaiting finish of 1 more threads\n",
      "INFO - 02:12:27: worker thread finished; awaiting finish of 0 more threads\n",
      "INFO - 02:12:27: EPOCH - 20 : training on 13081757 raw words (9375122 effective words) took 4.2s, 2255673 effective words/s\n",
      "INFO - 02:12:28: EPOCH 21 - PROGRESS: at 28.37% examples, 2378654 words/s, in_qsize 5, out_qsize 0\n",
      "INFO - 02:12:29: EPOCH 21 - PROGRESS: at 49.63% examples, 2387242 words/s, in_qsize 5, out_qsize 0\n",
      "INFO - 02:12:30: EPOCH 21 - PROGRESS: at 76.08% examples, 2388623 words/s, in_qsize 5, out_qsize 0\n",
      "INFO - 02:12:31: worker thread finished; awaiting finish of 2 more threads\n",
      "INFO - 02:12:31: worker thread finished; awaiting finish of 1 more threads\n",
      "INFO - 02:12:31: worker thread finished; awaiting finish of 0 more threads\n",
      "INFO - 02:12:31: EPOCH - 21 : training on 13081757 raw words (9373978 effective words) took 3.9s, 2387811 effective words/s\n",
      "INFO - 02:12:32: EPOCH 22 - PROGRESS: at 27.53% examples, 2299980 words/s, in_qsize 5, out_qsize 0\n",
      "INFO - 02:12:33: EPOCH 22 - PROGRESS: at 48.32% examples, 2304311 words/s, in_qsize 5, out_qsize 0\n",
      "INFO - 02:12:34: EPOCH 22 - PROGRESS: at 73.44% examples, 2305255 words/s, in_qsize 5, out_qsize 0\n",
      "INFO - 02:12:35: EPOCH 22 - PROGRESS: at 98.81% examples, 2307469 words/s, in_qsize 6, out_qsize 0\n",
      "INFO - 02:12:35: worker thread finished; awaiting finish of 2 more threads\n",
      "INFO - 02:12:35: worker thread finished; awaiting finish of 1 more threads\n",
      "INFO - 02:12:35: worker thread finished; awaiting finish of 0 more threads\n",
      "INFO - 02:12:35: EPOCH - 22 : training on 13081757 raw words (9376057 effective words) took 4.1s, 2308265 effective words/s\n",
      "INFO - 02:12:36: EPOCH 23 - PROGRESS: at 26.87% examples, 2246894 words/s, in_qsize 5, out_qsize 0\n",
      "INFO - 02:12:37: EPOCH 23 - PROGRESS: at 47.62% examples, 2259234 words/s, in_qsize 5, out_qsize 0\n",
      "INFO - 02:12:38: EPOCH 23 - PROGRESS: at 72.47% examples, 2260565 words/s, in_qsize 5, out_qsize 0\n",
      "INFO - 02:12:39: EPOCH 23 - PROGRESS: at 97.51% examples, 2261844 words/s, in_qsize 5, out_qsize 0\n",
      "INFO - 02:12:40: worker thread finished; awaiting finish of 2 more threads\n",
      "INFO - 02:12:40: worker thread finished; awaiting finish of 1 more threads\n"
     ]
    },
    {
     "name": "stderr",
     "output_type": "stream",
     "text": [
      "INFO - 02:12:40: worker thread finished; awaiting finish of 0 more threads\n",
      "INFO - 02:12:40: EPOCH - 23 : training on 13081757 raw words (9374839 effective words) took 4.1s, 2260027 effective words/s\n",
      "INFO - 02:12:41: EPOCH 24 - PROGRESS: at 28.14% examples, 2357956 words/s, in_qsize 5, out_qsize 0\n",
      "INFO - 02:12:42: EPOCH 24 - PROGRESS: at 49.39% examples, 2365849 words/s, in_qsize 5, out_qsize 0\n",
      "INFO - 02:12:43: EPOCH 24 - PROGRESS: at 75.29% examples, 2371603 words/s, in_qsize 5, out_qsize 0\n",
      "INFO - 02:12:44: worker thread finished; awaiting finish of 2 more threads\n",
      "INFO - 02:12:44: worker thread finished; awaiting finish of 1 more threads\n",
      "INFO - 02:12:44: worker thread finished; awaiting finish of 0 more threads\n",
      "INFO - 02:12:44: EPOCH - 24 : training on 13081757 raw words (9374023 effective words) took 4.0s, 2373063 effective words/s\n",
      "INFO - 02:12:45: EPOCH 25 - PROGRESS: at 27.36% examples, 2285562 words/s, in_qsize 5, out_qsize 0\n",
      "INFO - 02:12:46: EPOCH 25 - PROGRESS: at 47.69% examples, 2259799 words/s, in_qsize 5, out_qsize 0\n",
      "INFO - 02:12:47: EPOCH 25 - PROGRESS: at 72.71% examples, 2265686 words/s, in_qsize 4, out_qsize 1\n",
      "INFO - 02:12:48: EPOCH 25 - PROGRESS: at 97.70% examples, 2268194 words/s, in_qsize 5, out_qsize 0\n",
      "INFO - 02:12:48: worker thread finished; awaiting finish of 2 more threads\n",
      "INFO - 02:12:48: worker thread finished; awaiting finish of 1 more threads\n",
      "INFO - 02:12:48: worker thread finished; awaiting finish of 0 more threads\n",
      "INFO - 02:12:48: EPOCH - 25 : training on 13081757 raw words (9374966 effective words) took 4.1s, 2269960 effective words/s\n",
      "INFO - 02:12:49: EPOCH 26 - PROGRESS: at 26.66% examples, 2225031 words/s, in_qsize 6, out_qsize 0\n",
      "INFO - 02:12:50: EPOCH 26 - PROGRESS: at 47.33% examples, 2241319 words/s, in_qsize 5, out_qsize 0\n",
      "INFO - 02:12:51: EPOCH 26 - PROGRESS: at 71.92% examples, 2239908 words/s, in_qsize 5, out_qsize 0\n",
      "INFO - 02:12:52: EPOCH 26 - PROGRESS: at 96.86% examples, 2241444 words/s, in_qsize 5, out_qsize 0\n",
      "INFO - 02:12:52: worker thread finished; awaiting finish of 2 more threads\n",
      "INFO - 02:12:52: worker thread finished; awaiting finish of 1 more threads\n",
      "INFO - 02:12:52: worker thread finished; awaiting finish of 0 more threads\n",
      "INFO - 02:12:52: EPOCH - 26 : training on 13081757 raw words (9374839 effective words) took 4.2s, 2243392 effective words/s\n",
      "INFO - 02:12:53: EPOCH 27 - PROGRESS: at 28.30% examples, 2372555 words/s, in_qsize 5, out_qsize 0\n",
      "INFO - 02:12:54: EPOCH 27 - PROGRESS: at 49.54% examples, 2377146 words/s, in_qsize 5, out_qsize 0\n",
      "INFO - 02:12:55: EPOCH 27 - PROGRESS: at 75.40% examples, 2374848 words/s, in_qsize 6, out_qsize 0\n",
      "INFO - 02:12:56: worker thread finished; awaiting finish of 2 more threads\n",
      "INFO - 02:12:56: worker thread finished; awaiting finish of 1 more threads\n",
      "INFO - 02:12:56: worker thread finished; awaiting finish of 0 more threads\n",
      "INFO - 02:12:56: EPOCH - 27 : training on 13081757 raw words (9375601 effective words) took 3.9s, 2376923 effective words/s\n",
      "INFO - 02:12:57: EPOCH 28 - PROGRESS: at 26.95% examples, 2256034 words/s, in_qsize 5, out_qsize 0\n",
      "INFO - 02:12:58: EPOCH 28 - PROGRESS: at 47.75% examples, 2267267 words/s, in_qsize 5, out_qsize 0\n",
      "INFO - 02:12:59: EPOCH 28 - PROGRESS: at 72.65% examples, 2268144 words/s, in_qsize 5, out_qsize 0\n",
      "INFO - 02:13:00: EPOCH 28 - PROGRESS: at 97.61% examples, 2269152 words/s, in_qsize 5, out_qsize 0\n",
      "INFO - 02:13:00: worker thread finished; awaiting finish of 2 more threads\n",
      "INFO - 02:13:00: worker thread finished; awaiting finish of 1 more threads\n",
      "INFO - 02:13:00: worker thread finished; awaiting finish of 0 more threads\n",
      "INFO - 02:13:00: EPOCH - 28 : training on 13081757 raw words (9374025 effective words) took 4.1s, 2270340 effective words/s\n",
      "INFO - 02:13:01: EPOCH 29 - PROGRESS: at 26.60% examples, 2222477 words/s, in_qsize 5, out_qsize 0\n",
      "INFO - 02:13:02: EPOCH 29 - PROGRESS: at 47.17% examples, 2230270 words/s, in_qsize 5, out_qsize 0\n",
      "INFO - 02:13:03: EPOCH 29 - PROGRESS: at 71.36% examples, 2221654 words/s, in_qsize 5, out_qsize 0\n",
      "INFO - 02:13:04: EPOCH 29 - PROGRESS: at 96.44% examples, 2236158 words/s, in_qsize 5, out_qsize 0\n",
      "INFO - 02:13:04: worker thread finished; awaiting finish of 2 more threads\n",
      "INFO - 02:13:04: worker thread finished; awaiting finish of 1 more threads\n",
      "INFO - 02:13:04: worker thread finished; awaiting finish of 0 more threads\n",
      "INFO - 02:13:04: EPOCH - 29 : training on 13081757 raw words (9373793 effective words) took 4.2s, 2235526 effective words/s\n",
      "INFO - 02:13:05: EPOCH 30 - PROGRESS: at 28.14% examples, 2357564 words/s, in_qsize 5, out_qsize 0\n",
      "INFO - 02:13:06: EPOCH 30 - PROGRESS: at 49.08% examples, 2352925 words/s, in_qsize 5, out_qsize 0\n",
      "INFO - 02:13:07: EPOCH 30 - PROGRESS: at 74.38% examples, 2354737 words/s, in_qsize 5, out_qsize 0\n",
      "INFO - 02:13:08: worker thread finished; awaiting finish of 2 more threads\n",
      "INFO - 02:13:08: worker thread finished; awaiting finish of 1 more threads\n",
      "INFO - 02:13:08: worker thread finished; awaiting finish of 0 more threads\n",
      "INFO - 02:13:08: EPOCH - 30 : training on 13081757 raw words (9373442 effective words) took 4.0s, 2353695 effective words/s\n",
      "INFO - 02:13:08: training on a 392452710 raw words (281236967 effective words) took 122.0s, 2305053 effective words/s\n"
     ]
    },
    {
     "name": "stdout",
     "output_type": "stream",
     "text": [
      "Time to train the model: 2.03 mins\n"
     ]
    }
   ],
   "source": [
    "t = time()\n",
    "\n",
    "w2v_model.train(all_sentences, total_examples=w2v_model.corpus_count, epochs=30, report_delay=1)\n",
    "\n",
    "print('Time to train the model: {} mins'.format(round((time() - t) / 60, 2)))"
   ]
  },
  {
   "cell_type": "code",
   "execution_count": 17,
   "metadata": {},
   "outputs": [],
   "source": [
    "words = list(w2v_model.wv.vocab)"
   ]
  },
  {
   "cell_type": "code",
   "execution_count": 26,
   "metadata": {},
   "outputs": [],
   "source": [
    "sent = ' '.join(word for word in words)"
   ]
  },
  {
   "cell_type": "code",
   "execution_count": 27,
   "metadata": {},
   "outputs": [],
   "source": [
    "from tensorflow.keras.preprocessing.text import Tokenizer\n",
    "tokenizer = Tokenizer()\n",
    "tokenizer.fit_on_texts(list(words))\n",
    "word_index = tokenizer.word_index"
   ]
  },
  {
   "cell_type": "code",
   "execution_count": 28,
   "metadata": {},
   "outputs": [],
   "source": [
    "vocab = pd.read_csv('Vocab_file.csv')\n",
    "list_vocab = list(vocab['Unnamed: 0'])"
   ]
  },
  {
   "cell_type": "code",
   "execution_count": 29,
   "metadata": {},
   "outputs": [
    {
     "data": {
      "text/plain": [
       "27150"
      ]
     },
     "execution_count": 29,
     "metadata": {},
     "output_type": "execute_result"
    }
   ],
   "source": [
    "len(list_vocab)"
   ]
  },
  {
   "cell_type": "code",
   "execution_count": 30,
   "metadata": {},
   "outputs": [
    {
     "name": "stderr",
     "output_type": "stream",
     "text": [
      "C:\\Users\\miman\\Anaconda3\\lib\\site-packages\\ipykernel_launcher.py:1: DeprecationWarning: Call to deprecated `__getitem__` (Method will be removed in 4.0.0, use self.wv.__getitem__() instead).\n",
      "  \"\"\"Entry point for launching an IPython kernel.\n"
     ]
    },
    {
     "data": {
      "text/plain": [
       "(100,)"
      ]
     },
     "execution_count": 30,
     "metadata": {},
     "output_type": "execute_result"
    }
   ],
   "source": [
    "(w2v_model['baby']).shape"
   ]
  },
  {
   "cell_type": "code",
   "execution_count": 35,
   "metadata": {},
   "outputs": [
    {
     "name": "stderr",
     "output_type": "stream",
     "text": [
      "C:\\Users\\miman\\Anaconda3\\lib\\site-packages\\ipykernel_launcher.py:6: DeprecationWarning: Call to deprecated `__getitem__` (Method will be removed in 4.0.0, use self.wv.__getitem__() instead).\n",
      "  \n",
      "C:\\Users\\miman\\Anaconda3\\lib\\site-packages\\ipykernel_launcher.py:10: DeprecationWarning: Call to deprecated `__getitem__` (Method will be removed in 4.0.0, use self.wv.__getitem__() instead).\n",
      "  # Remove the CWD from sys.path while we load stuff.\n"
     ]
    },
    {
     "name": "stdout",
     "output_type": "stream",
     "text": [
      "27150\n"
     ]
    }
   ],
   "source": [
    "count = 0\n",
    "skip = 0\n",
    "a_file = open(\"Embedding_100dim.txt\", \"w\")\n",
    "for word in list_vocab:\n",
    "    try:\n",
    "        np.savetxt(a_file, w2v_model[word].reshape(1,100))\n",
    "    except KeyError:\n",
    "        skip = skip + 1\n",
    "        np.savetxt(a_file, w2v_model['baby'].reshape(1,100))\n",
    "    count = count +1\n",
    "print(count)\n",
    "a_file.close()"
   ]
  },
  {
   "cell_type": "code",
   "execution_count": null,
   "metadata": {},
   "outputs": [],
   "source": []
  }
 ],
 "metadata": {
  "kernelspec": {
   "display_name": "Python 3",
   "language": "python",
   "name": "python3"
  },
  "language_info": {
   "codemirror_mode": {
    "name": "ipython",
    "version": 3
   },
   "file_extension": ".py",
   "mimetype": "text/x-python",
   "name": "python",
   "nbconvert_exporter": "python",
   "pygments_lexer": "ipython3",
   "version": "3.7.3"
  }
 },
 "nbformat": 4,
 "nbformat_minor": 1
}
